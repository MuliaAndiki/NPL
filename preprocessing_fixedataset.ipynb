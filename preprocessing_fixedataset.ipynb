{
 "cells": [
  {
   "cell_type": "markdown",
   "id": "1c2824fd",
   "metadata": {},
   "source": [
    "`Import Lib`"
   ]
  },
  {
   "cell_type": "code",
   "execution_count": null,
   "id": "c797be6c",
   "metadata": {},
   "outputs": [],
   "source": [
    "import os\n",
    "import pandas as pd\n",
    "import re\n",
    "import string\n",
    "from Sastrawi.StopWordRemover.StopWordRemoverFactory import StopWordRemoverFactory\n"
   ]
  },
  {
   "cell_type": "markdown",
   "id": "6b988292",
   "metadata": {},
   "source": [
    "# STEP 1 — Case Folding"
   ]
  },
  {
   "cell_type": "code",
   "execution_count": null,
   "id": "6e40c2d1",
   "metadata": {},
   "outputs": [],
   "source": [
    "def case_folding(text):\n",
    "    if pd.isna(text):\n",
    "        return \"\"\n",
    "    return text.lower()\n",
    "\n",
    "def step1_casefolding(input_file=\"merge_datasets/cleandataset.csv\", save_to=\"step_data\"):\n",
    "\n",
    "    os.makedirs(save_to, exist_ok=True)\n",
    "\n",
    "\n",
    "    if not os.path.exists(input_file):\n",
    "        print(f\"❌ File {input_file} tidak ditemukan.\")\n",
    "        return\n",
    "\n",
    "\n",
    "    df = pd.read_csv(input_file)\n",
    "    print(f\"🔹 Melakukan Case Folding pada file: {input_file}\")\n",
    "\n",
    "    if 'judul' not in df.columns or 'konten' not in df.columns:\n",
    "        print(\"⚠️ File tidak memiliki kolom 'judul' dan 'konten'. Proses dihentikan.\")\n",
    "        return\n",
    "\n",
    "   \n",
    "    df['judul'] = df['judul'].astype(str).apply(case_folding)\n",
    "    df['konten'] = df['konten'].astype(str).apply(case_folding)\n",
    "\n",
    "    output_path = os.path.join(save_to, \"step1_casefolding.csv\")\n",
    "    df.to_csv(output_path, index=False, encoding='utf-8')\n",
    "    print(f\"✅ Step 1 selesai — hasil disimpan di: {output_path}\")\n",
    "\n",
    "if __name__ == \"__main__\":\n",
    "    step1_casefolding()\n"
   ]
  },
  {
   "cell_type": "markdown",
   "id": "348cf7a1",
   "metadata": {},
   "source": [
    "# Cleaning"
   ]
  },
  {
   "cell_type": "code",
   "execution_count": null,
   "id": "81d29a95",
   "metadata": {},
   "outputs": [],
   "source": [
    "\n",
    "def cleaning(text):\n",
    "    if pd.isna(text):\n",
    "        return \"\"\n",
    "    text = re.sub(r'\\d+', '', text) \n",
    "    text = text.translate(str.maketrans('', '', string.punctuation)) \n",
    "    return text.strip()\n",
    "\n",
    "def step2_cleaning(input_file=\"step_data/step1_casefolding.csv\", output_file=\"step_data/step2_cleaning.csv\"):\n",
    "  \n",
    "    os.makedirs(os.path.dirname(output_file), exist_ok=True)\n",
    "\n",
    "    if not os.path.exists(input_file):\n",
    "        print(f\"❌ File {input_file} tidak ditemukan.\")\n",
    "        return\n",
    "\n",
    "    print(f\"🔹 Membaca file: {input_file}\")\n",
    "    df = pd.read_csv(input_file)\n",
    "\n",
    "    if 'judul' not in df.columns or 'konten' not in df.columns:\n",
    "        print(\"⚠️ File tidak memiliki kolom 'judul' dan 'konten'. Proses dihentikan.\")\n",
    "        return\n",
    "\n",
    "    print(\"🧹 Membersihkan teks (hapus angka & tanda baca)...\")\n",
    "    df['judul'] = df['judul'].astype(str).apply(cleaning)\n",
    "    df['konten'] = df['konten'].astype(str).apply(cleaning)\n",
    "\n",
    "    df.to_csv(output_file, index=False, encoding='utf-8')\n",
    "    print(f\"✅ Step 2 selesai — hasil disimpan di: {output_file}\")\n",
    "\n",
    "if __name__ == \"__main__\":\n",
    "    step2_cleaning()\n"
   ]
  },
  {
   "cell_type": "markdown",
   "id": "6afd9d20",
   "metadata": {},
   "source": [
    "# Tokenizing"
   ]
  },
  {
   "cell_type": "code",
   "execution_count": null,
   "id": "6783235e",
   "metadata": {},
   "outputs": [],
   "source": [
    "\n",
    "def tokenizing(text):\n",
    "    if pd.isna(text):\n",
    "        return []\n",
    "    return text.split()\n",
    "\n",
    "def step3_tokenizing(input_file=\"step_data/step2_cleaning.csv\", output_file=\"step_data/step3_tokenizing.csv\"):\n",
    "    os.makedirs(os.path.dirname(output_file), exist_ok=True)\n",
    "\n",
    "\n",
    "    if not os.path.exists(input_file):\n",
    "        print(f\"❌ File {input_file} tidak ditemukan.\")\n",
    "        return\n",
    "\n",
    "    print(f\"🔹 Membaca file: {input_file}\")\n",
    "    df = pd.read_csv(input_file)\n",
    "\n",
    "\n",
    "    if 'judul' not in df.columns or 'konten' not in df.columns:\n",
    "        print(\"⚠️ File tidak memiliki kolom 'judul' dan 'konten'. Proses dihentikan.\")\n",
    "        return\n",
    "\n",
    "    print(\"✂️ Melakukan tokenisasi teks...\")\n",
    "    df['judul'] = df['judul'].astype(str).apply(tokenizing)\n",
    "    df['konten'] = df['konten'].astype(str).apply(tokenizing)\n",
    "\n",
    "    df.to_csv(output_file, index=False, encoding='utf-8')\n",
    "    print(f\"✅ Step 3 selesai — hasil disimpan di: {output_file}\")\n",
    "\n",
    "if __name__ == \"__main__\":\n",
    "    step3_tokenizing()\n"
   ]
  },
  {
   "cell_type": "markdown",
   "id": "763aea57",
   "metadata": {},
   "source": [
    "# Stopword Removal"
   ]
  },
  {
   "cell_type": "code",
   "execution_count": null,
   "id": "69a858d8",
   "metadata": {},
   "outputs": [],
   "source": [
    "stop_factory = StopWordRemoverFactory()\n",
    "stopwords_id = set(stop_factory.get_stop_words())\n",
    "\n",
    "def remove_stopwords(tokens):\n",
    "    \"\"\"Menghapus stopword dari token list.\"\"\"\n",
    "    if isinstance(tokens, str):\n",
    "        tokens = tokens.strip(\"[]\").replace(\"'\", \"\").split(\", \")\n",
    "    return [word for word in tokens if word not in stopwords_id]\n",
    "\n",
    "def step4_stopword(input_file=\"step_data/step3_tokenizing.csv\", output_file=\"step_data/step4_stopword.csv\"):\n",
    "    \"\"\"Menghapus stopword dari kolom 'judul' dan 'konten'.\"\"\"\n",
    "    os.makedirs(os.path.dirname(output_file), exist_ok=True)\n",
    "\n",
    "    if not os.path.exists(input_file):\n",
    "        print(f\"❌ File {input_file} tidak ditemukan.\")\n",
    "        return\n",
    "\n",
    "    print(f\"🔹 Membaca file: {input_file}\")\n",
    "    df = pd.read_csv(input_file)\n",
    "\n",
    "    if 'judul' not in df.columns or 'konten' not in df.columns:\n",
    "        print(\"⚠️ File tidak memiliki kolom 'judul' dan 'konten'. Proses dihentikan.\")\n",
    "        return\n",
    "\n",
    "    print(\"🧹 Menghapus stopword...\")\n",
    "    df['judul'] = df['judul'].apply(remove_stopwords)\n",
    "    df['konten'] = df['konten'].apply(remove_stopwords)\n",
    "\n",
    "    df.to_csv(output_file, index=False, encoding='utf-8')\n",
    "    print(f\"✅ Step 4 selesai — hasil disimpan di: {output_file}\")\n",
    "\n",
    "if __name__ == \"__main__\":\n",
    "    step4_stopword()\n"
   ]
  },
  {
   "cell_type": "markdown",
   "id": "1db295c8",
   "metadata": {},
   "source": [
    "## Detokenisasi "
   ]
  },
  {
   "cell_type": "code",
   "execution_count": null,
   "id": "66aeaf2b",
   "metadata": {},
   "outputs": [
    {
     "name": "stdout",
     "output_type": "stream",
     "text": [
      "📂 Membaca data dari: ./step_data/step5_stemming_token.csv\n",
      "✅ File hasil disimpan ke: ./step_data/step6_detokenized.csv\n",
      "\n",
      "🧠 Contoh hasil detokenisasi:\n",
      "                                                                                                     judul                                                                                                                                                                                                                                                                                                                                                                                                                                                                                                                                                                                                                                                                                                                                                                                                                                                                                                                                                                                                                                                                                                                                                                                                                                                                                                                                                                                                                                                                                                                                                                                                                                                                                                                                                                                                                                                                                                                                                                                                                            konten\n",
      "                       tingkat guna serang drone perang lawan teror afghanistan masa pimpin presiden obama                                                                                                                                                                                                                                                                                                                                                                                                                                                                                                                                                                                                                                                                                                                                                                                       drone umum klasifikasi semua kendara baik darat laut maupun udara mampu operasi mandiri perlu kendali langsung manusia ada kendara sebut drone tetap kendali jarak jauh lalu orang operator guna drone alutsista militer sendiri relatif baru banding alutsista militer lain tank pesawat jet banding balik paham umum guna drone pertama kali guna drone konflik senjata bukan amerika serikat israel amerika serikat rupa negara pertama guna senjata drone jumlah signifikan upaya buru teroris afghanistan dapat bagai faktor jadi timbang amerika serikat makin tingkat guna serang drone banding guna serang pasu konvensional skripsi bahas kena faktor utama pengaruh tingkat guna serang drone amerika serikat afghanistan lalu kacamata teoridoktrin clausewitz strategic war targeted killing doctrine just war theory berangkat konsep temu alas utama amerika serikat makin gantung serang drone buru teroris afghanistan letak mampu unik drone mampu jaga aman operator cegah jatuh korban jiwa doktrin guna militer amerika serikat tekan presiden amerika serikat orangorang beri wewenang presiden perintah serang drone posisi musuh ada hukumtraktatperjanjian internasional eksplisit larang guna drone senjata perang\n",
      "                            prediksi harga apartemen timbang faktor socio economic crime rates dki jakarta                                                                                                                                                                                                                                                                                                                                                                                                                                                                                                                                                                                                                                                                                                                                                                                                                                                                                                                      properti indonesia rupa bentuk investasi cukup janji harga cenderung terus naik apartemen nilai cukup efektif sarana investasi bentuk bangun cenderung vertikal kurang ukur kuantitatif tentu nilai guna intuisi faktor socio economic crime rates sangat penting timbang pilih lokasi tempat tinggal aman nyaman keluarga tanggap masalah tulis buat suatu teliti bantu konsumen apartemen laku prediksi harga sewa naik nilai aset buah apartemen dasar faktor spesifikasi socio economic crime rates milik apartemen sebut kira naik nilai aset apartemen otomatis machine learning model guna teliti random forest regression decision tree regressor gradient boosting machine hasil teliti laku tahu model machine learning paling tepat prediksi harga sewa buah apartemen harga jual apartemen gradient boosting machine nilai r hasil prediksi naik nilai aset model baik random forest regressor nilai r hasil teliti laku tahu faktor socio economic crime rates milik kontribusi performa model guna lihat tingkat nilai r nya faktor faktor sebut milik kontribusi kisar hingga rata rata besar\n",
      "efek beri program turun berat badan bas digital obimobi total asupan kalori individu dewasa gemuk obesitas latar belakang obesitas rupa salah satu masalah sehat prevalensi terus alami tingkat waktu waktu sangat kait erat jadi bagai sakit tular intervensi gizi rupa salah satu faktor penting tangan masalah obesitas kurang asupan kalori aktivitas fisik bantu capai turun berat badan tunjang sukses intervensi gizi aspek turut ambil peran besar ialah edukasi gizi sisi guna teknologi informasi digital bantu bagai perlu manusia makin kembang dewasa kecuali bidang gizi sehat edukasi gizi bas online kira milik potensi efektivitas efisiensi lebih tinggi banding edukasi gizi konvensional tuju tahu pengaruh program turun berat badan bas digital obimobi asupan energi hari individu gemuk obesitas metode teliti rupa teliti kuasi eksperimen laksana full online subjek gemuk obesitas tinggal indonesia teliti banding nilai pretest posttest total asupan kalori hari subjek kelompok kontrol kk kelompok intervensi ki kelompok kontrol kelompok dapat kali konseling gizi lalu tatap muka daring ahli gizi sisi kelompok intervensi kelompok dapat kali konseling gizi lalu tatap muka daring ahli gizi tambah program obimobi lama bulan obimobi rupa program intervensi turun berat badan edukasi bas website rancang dasar pedoman gizi imbang pgs dapat intervensi dua kelompok subjek jalan nilai awal pretest sqffq tahu asupan makan hari subjek intervensi laku laku intervensi subjek dua kelompok jalan nilai akhir posttest sqffq hasil kelompok kontrol dapat turun asupan energi karbohidrat protein signifikan pvalue jalan konseling gizi daring sisi kelompok intervensi dapat turun asupan energi karbohidrat signifikan pvalue jalan konseling gizi daring program obimobi lalu laku uji banding kelompok kontrol intervensi dapat hasil dapat beda ubah asupan signifikan kelompok kontrol kelompok intervensi tunjuk nilai p seluruh zat gizi uji simpul program obimobi beri kelompok intervensi lebih efektif turun asupan energi hari subjek banding kelompok kontrol dapat konseling gizi\n"
     ]
    }
   ],
   "source": [
    "import pandas as pd\n",
    "import ast\n",
    "\n",
    "def detokenize_csv(input_path: str, output_path: str, \n",
    "                   col_judul: str = \"judul\", col_konten: str = \"konten\"):\n",
    "\n",
    "    def parse_list(text):\n",
    "        try:\n",
    "            tokens = ast.literal_eval(text)\n",
    "            if isinstance(tokens, list):\n",
    "                return \" \".join(tokens)\n",
    "            else:\n",
    "                return str(tokens)\n",
    "        except Exception:\n",
    "            return str(text)\n",
    "\n",
    "    print(f\"📂 Membaca data dari: {input_path}\")\n",
    "    df = pd.read_csv(input_path)\n",
    "\n",
    "    if col_judul in df.columns:\n",
    "        df[col_judul] = df[col_judul].apply(parse_list)\n",
    "    if col_konten in df.columns:\n",
    "        df[col_konten] = df[col_konten].apply(parse_list)\n",
    "\n",
    "    df.to_csv(output_path, index=False)\n",
    "    print(f\"✅ File hasil disimpan ke: {output_path}\")\n",
    "\n",
    "    print(\"\\n🧠 Contoh hasil detokenisasi:\")\n",
    "    print(df.head(3).to_string(index=False))\n",
    "\n",
    "    return df\n",
    "\n",
    "if __name__ == \"__main__\":\n",
    "    input_file = \"./step_data/step5_stemming_token.csv\"  \n",
    "    output_file = \"./step_data/step6_detokenized.csv\"    \n",
    "    detokenize_csv(input_file, output_file)\n"
   ]
  }
 ],
 "metadata": {
  "kernelspec": {
   "display_name": "Python 3",
   "language": "python",
   "name": "python3"
  },
  "language_info": {
   "codemirror_mode": {
    "name": "ipython",
    "version": 3
   },
   "file_extension": ".py",
   "mimetype": "text/x-python",
   "name": "python",
   "nbconvert_exporter": "python",
   "pygments_lexer": "ipython3",
   "version": "3.10.8"
  }
 },
 "nbformat": 4,
 "nbformat_minor": 5
}
