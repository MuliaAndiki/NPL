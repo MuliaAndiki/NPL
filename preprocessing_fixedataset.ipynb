{
 "cells": [
  {
   "cell_type": "markdown",
   "id": "6b988292",
   "metadata": {},
   "source": [
    "# STEP 1 — Case Folding"
   ]
  },
  {
   "cell_type": "code",
   "execution_count": 20,
   "id": "6e40c2d1",
   "metadata": {},
   "outputs": [
    {
     "name": "stdout",
     "output_type": "stream",
     "text": [
      "🔹 Melakukan Case Folding pada file: 0_mergeDataset.csv\n",
      "✅ Step 1 selesai — hasil disimpan di: fix_data\\step1_casefolding.csv\n"
     ]
    }
   ],
   "source": [
    "import os\n",
    "import pandas as pd\n",
    "\n",
    "def case_folding(text):\n",
    "    \"\"\"Mengubah teks menjadi huruf kecil (lowercase).\"\"\"\n",
    "    if pd.isna(text):\n",
    "        return \"\"\n",
    "    return text.lower()\n",
    "\n",
    "def step1_casefolding(input_file=\"0_mergeDataset.csv\", save_to=\"fix_data\"):\n",
    "    \"\"\"Melakukan case folding langsung dari file CSV tunggal.\"\"\"\n",
    "    os.makedirs(save_to, exist_ok=True)\n",
    "\n",
    "    # Pastikan file ada\n",
    "    if not os.path.exists(input_file):\n",
    "        print(f\"❌ File {input_file} tidak ditemukan.\")\n",
    "        return\n",
    "\n",
    "    # Baca file CSV langsung (bukan dari folder)\n",
    "    df = pd.read_csv(input_file)\n",
    "    print(f\"🔹 Melakukan Case Folding pada file: {input_file}\")\n",
    "\n",
    "    # Pastikan kolom tersedia\n",
    "    if 'judul' not in df.columns or 'konten' not in df.columns:\n",
    "        print(\"⚠️ File tidak memiliki kolom 'judul' dan 'konten'. Proses dihentikan.\")\n",
    "        return\n",
    "\n",
    "    # Terapkan case folding\n",
    "    df['judul'] = df['judul'].astype(str).apply(case_folding)\n",
    "    df['konten'] = df['konten'].astype(str).apply(case_folding)\n",
    "\n",
    "    # Simpan hasil ke folder fix_data\n",
    "    output_path = os.path.join(save_to, \"step1_casefolding.csv\")\n",
    "    df.to_csv(output_path, index=False, encoding='utf-8')\n",
    "    print(f\"✅ Step 1 selesai — hasil disimpan di: {output_path}\")\n",
    "\n",
    "if __name__ == \"__main__\":\n",
    "    step1_casefolding()\n"
   ]
  },
  {
   "cell_type": "markdown",
   "id": "348cf7a1",
   "metadata": {},
   "source": [
    "# Cleaning"
   ]
  },
  {
   "cell_type": "code",
   "execution_count": 21,
   "id": "81d29a95",
   "metadata": {},
   "outputs": [
    {
     "name": "stdout",
     "output_type": "stream",
     "text": [
      "🔹 Membaca file: fix_data/step1_casefolding.csv\n",
      "🧹 Membersihkan teks (hapus angka & tanda baca)...\n",
      "✅ Step 2 selesai — hasil disimpan di: fix_data/step2_cleaning.csv\n"
     ]
    }
   ],
   "source": [
    "import os\n",
    "import re\n",
    "import string\n",
    "import pandas as pd\n",
    "\n",
    "def cleaning(text):\n",
    "    \"\"\"Menghapus angka dan tanda baca dari teks.\"\"\"\n",
    "    if pd.isna(text):\n",
    "        return \"\"\n",
    "    text = re.sub(r'\\d+', '', text)  # hapus angka\n",
    "    text = text.translate(str.maketrans('', '', string.punctuation))  # hapus tanda baca\n",
    "    return text.strip()\n",
    "\n",
    "def step2_cleaning(input_file=\"fix_data/step1_casefolding.csv\", output_file=\"fix_data/step2_cleaning.csv\"):\n",
    "    \"\"\"Membersihkan teks dari angka dan tanda baca, hasil disimpan ke file baru.\"\"\"\n",
    "    os.makedirs(os.path.dirname(output_file), exist_ok=True)\n",
    "\n",
    "    # Pastikan file input ada\n",
    "    if not os.path.exists(input_file):\n",
    "        print(f\"❌ File {input_file} tidak ditemukan.\")\n",
    "        return\n",
    "\n",
    "    print(f\"🔹 Membaca file: {input_file}\")\n",
    "    df = pd.read_csv(input_file)\n",
    "\n",
    "    # Pastikan kolom sesuai\n",
    "    if 'judul' not in df.columns or 'konten' not in df.columns:\n",
    "        print(\"⚠️ File tidak memiliki kolom 'judul' dan 'konten'. Proses dihentikan.\")\n",
    "        return\n",
    "\n",
    "    print(\"🧹 Membersihkan teks (hapus angka & tanda baca)...\")\n",
    "    df['judul'] = df['judul'].astype(str).apply(cleaning)\n",
    "    df['konten'] = df['konten'].astype(str).apply(cleaning)\n",
    "\n",
    "    # Simpan hasil\n",
    "    df.to_csv(output_file, index=False, encoding='utf-8')\n",
    "    print(f\"✅ Step 2 selesai — hasil disimpan di: {output_file}\")\n",
    "\n",
    "if __name__ == \"__main__\":\n",
    "    step2_cleaning()\n"
   ]
  },
  {
   "cell_type": "markdown",
   "id": "6afd9d20",
   "metadata": {},
   "source": [
    "# Tokenizing"
   ]
  },
  {
   "cell_type": "code",
   "execution_count": 22,
   "id": "6783235e",
   "metadata": {},
   "outputs": [
    {
     "name": "stdout",
     "output_type": "stream",
     "text": [
      "🔹 Membaca file: fix_data/step2_cleaning.csv\n",
      "✂️ Melakukan tokenisasi teks...\n",
      "✅ Step 3 selesai — hasil disimpan di: fix_data/step3_tokenizing.csv\n"
     ]
    }
   ],
   "source": [
    "import os\n",
    "import pandas as pd\n",
    "\n",
    "def tokenizing(text):\n",
    "    \"\"\"Memecah teks menjadi token (berdasarkan spasi).\"\"\"\n",
    "    if pd.isna(text):\n",
    "        return []\n",
    "    return text.split()\n",
    "\n",
    "def step3_tokenizing(input_file=\"fix_data/step2_cleaning.csv\", output_file=\"fix_data/step3_tokenizing.csv\"):\n",
    "    \"\"\"Melakukan tokenisasi pada kolom 'judul' dan 'konten'.\"\"\"\n",
    "    os.makedirs(os.path.dirname(output_file), exist_ok=True)\n",
    "\n",
    "    # Pastikan file input ada\n",
    "    if not os.path.exists(input_file):\n",
    "        print(f\"❌ File {input_file} tidak ditemukan.\")\n",
    "        return\n",
    "\n",
    "    print(f\"🔹 Membaca file: {input_file}\")\n",
    "    df = pd.read_csv(input_file)\n",
    "\n",
    "    # Pastikan kolom sesuai\n",
    "    if 'judul' not in df.columns or 'konten' not in df.columns:\n",
    "        print(\"⚠️ File tidak memiliki kolom 'judul' dan 'konten'. Proses dihentikan.\")\n",
    "        return\n",
    "\n",
    "    print(\"✂️ Melakukan tokenisasi teks...\")\n",
    "    df['judul'] = df['judul'].astype(str).apply(tokenizing)\n",
    "    df['konten'] = df['konten'].astype(str).apply(tokenizing)\n",
    "\n",
    "    # Simpan hasil tokenisasi\n",
    "    df.to_csv(output_file, index=False, encoding='utf-8')\n",
    "    print(f\"✅ Step 3 selesai — hasil disimpan di: {output_file}\")\n",
    "\n",
    "if __name__ == \"__main__\":\n",
    "    step3_tokenizing()\n"
   ]
  },
  {
   "cell_type": "markdown",
   "id": "763aea57",
   "metadata": {},
   "source": [
    "# Stopword Removal"
   ]
  },
  {
   "cell_type": "code",
   "execution_count": 23,
   "id": "69a858d8",
   "metadata": {},
   "outputs": [
    {
     "name": "stdout",
     "output_type": "stream",
     "text": [
      "🔹 Membaca file: fix_data/step3_tokenizing.csv\n",
      "🧹 Menghapus stopword...\n",
      "✅ Step 4 selesai — hasil disimpan di: fix_data/step4_stopword.csv\n"
     ]
    }
   ],
   "source": [
    "import os\n",
    "import pandas as pd\n",
    "from Sastrawi.StopWordRemover.StopWordRemoverFactory import StopWordRemoverFactory\n",
    "\n",
    "# Inisialisasi daftar stopword Bahasa Indonesia\n",
    "stop_factory = StopWordRemoverFactory()\n",
    "stopwords_id = set(stop_factory.get_stop_words())\n",
    "\n",
    "def remove_stopwords(tokens):\n",
    "    \"\"\"Menghapus stopword dari token list.\"\"\"\n",
    "    if isinstance(tokens, str):\n",
    "        # Pastikan format list dari CSV diubah kembali ke list kata\n",
    "        tokens = tokens.strip(\"[]\").replace(\"'\", \"\").split(\", \")\n",
    "    return [word for word in tokens if word not in stopwords_id]\n",
    "\n",
    "def step4_stopword(input_file=\"fix_data/step3_tokenizing.csv\", output_file=\"fix_data/step4_stopword.csv\"):\n",
    "    \"\"\"Menghapus stopword dari kolom 'judul' dan 'konten'.\"\"\"\n",
    "    os.makedirs(os.path.dirname(output_file), exist_ok=True)\n",
    "\n",
    "    # Pastikan file input ada\n",
    "    if not os.path.exists(input_file):\n",
    "        print(f\"❌ File {input_file} tidak ditemukan.\")\n",
    "        return\n",
    "\n",
    "    print(f\"🔹 Membaca file: {input_file}\")\n",
    "    df = pd.read_csv(input_file)\n",
    "\n",
    "    # Pastikan kolom sesuai\n",
    "    if 'judul' not in df.columns or 'konten' not in df.columns:\n",
    "        print(\"⚠️ File tidak memiliki kolom 'judul' dan 'konten'. Proses dihentikan.\")\n",
    "        return\n",
    "\n",
    "    print(\"🧹 Menghapus stopword...\")\n",
    "    df['judul'] = df['judul'].apply(remove_stopwords)\n",
    "    df['konten'] = df['konten'].apply(remove_stopwords)\n",
    "\n",
    "    # Simpan hasilnya\n",
    "    df.to_csv(output_file, index=False, encoding='utf-8')\n",
    "    print(f\"✅ Step 4 selesai — hasil disimpan di: {output_file}\")\n",
    "\n",
    "if __name__ == \"__main__\":\n",
    "    step4_stopword()\n"
   ]
  },
  {
   "cell_type": "markdown",
   "id": "1ac764f3",
   "metadata": {},
   "source": [
    "# Stemming"
   ]
  },
  {
   "cell_type": "code",
   "execution_count": 24,
   "id": "f295de34",
   "metadata": {},
   "outputs": [
    {
     "name": "stdout",
     "output_type": "stream",
     "text": [
      "🔹 Membaca file: fix_data/step4_stopword.csv\n",
      "🧪 Memproses 5 baris pertama untuk pengujian...\n",
      "🌾 Melakukan stemming pada teks (judul & konten)...\n",
      "✅ Step 5 selesai — hasil disimpan di: fix_data/step5_stemming.csv\n"
     ]
    }
   ],
   "source": [
    "import os\n",
    "import pandas as pd\n",
    "from Sastrawi.Stemmer.StemmerFactory import StemmerFactory\n",
    "\n",
    "# Inisialisasi stemmer Bahasa Indonesia\n",
    "stemmer = StemmerFactory().create_stemmer()\n",
    "\n",
    "def stemming(tokens):\n",
    "    \"\"\"Melakukan stemming pada list token atau teks string.\"\"\"\n",
    "    if isinstance(tokens, str):\n",
    "        tokens = tokens.strip(\"[]\").replace(\"'\", \"\").split(\", \")\n",
    "    text = ' '.join(tokens)\n",
    "    return stemmer.stem(text)\n",
    "\n",
    "def step5_stemming(input_file=\"fix_data/step4_stopword.csv\", output_file=\"fix_data/step5_stemming.csv\", n_rows=5):\n",
    "    \"\"\"Melakukan stemming pada kolom 'judul' dan 'konten'.\"\"\"\n",
    "    os.makedirs(os.path.dirname(output_file), exist_ok=True)\n",
    "\n",
    "    # Pastikan file input ada\n",
    "    if not os.path.exists(input_file):\n",
    "        print(f\"❌ File {input_file} tidak ditemukan.\")\n",
    "        return\n",
    "\n",
    "    print(f\"🔹 Membaca file: {input_file}\")\n",
    "    df = pd.read_csv(input_file)\n",
    "    \n",
    "     # Ambil hanya 5 baris pertama untuk tes\n",
    "    df = df.head(n_rows)\n",
    "    print(f\"🧪 Memproses {len(df)} baris pertama untuk pengujian...\")\n",
    "\n",
    "    # Pastikan kolom sesuai\n",
    "    if 'judul' not in df.columns or 'konten' not in df.columns:\n",
    "        print(\"⚠️ File tidak memiliki kolom 'judul' dan 'konten'. Proses dihentikan.\")\n",
    "        return\n",
    "\n",
    "    print(\"🌾 Melakukan stemming pada teks (judul & konten)...\")\n",
    "    df['judul'] = df['judul'].apply(stemming)\n",
    "    df['konten'] = df['konten'].apply(stemming)\n",
    "\n",
    "    # Simpan hasil ke file baru\n",
    "    df.to_csv(output_file, index=False, encoding='utf-8')\n",
    "    print(f\"✅ Step 5 selesai — hasil disimpan di: {output_file}\")\n",
    "\n",
    "if __name__ == \"__main__\":\n",
    "    step5_stemming()\n"
   ]
  }
 ],
 "metadata": {
  "kernelspec": {
   "display_name": "Python 3",
   "language": "python",
   "name": "python3"
  },
  "language_info": {
   "codemirror_mode": {
    "name": "ipython",
    "version": 3
   },
   "file_extension": ".py",
   "mimetype": "text/x-python",
   "name": "python",
   "nbconvert_exporter": "python",
   "pygments_lexer": "ipython3",
   "version": "3.12.6"
  }
 },
 "nbformat": 4,
 "nbformat_minor": 5
}
